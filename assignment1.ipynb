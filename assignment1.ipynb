{
 "cells": [
  {
   "cell_type": "code",
   "execution_count": 27,
   "metadata": {},
   "outputs": [],
   "source": [
    "import os\n",
    "import cv2\n",
    "import numpy as np\n",
    "from sklearn.metrics.pairwise import cosine_similarity\n",
    "import matplotlib.pyplot as plt\n",
    "import pickle\n"
   ]
  },
  {
   "cell_type": "markdown",
   "metadata": {},
   "source": [
    "image load funcation"
   ]
  },
  {
   "cell_type": "code",
   "execution_count": 28,
   "metadata": {},
   "outputs": [],
   "source": [
    "def load_cifar10_dataset(dataset_dir):\n",
    "    image_paths = []\n",
    "    labels = []\n",
    "\n",
    "    # Iterate through all files in the dataset directory\n",
    "    for filename in os.listdir(dataset_dir):\n",
    "    \n",
    "        if filename.endswith(\".png\"):\n",
    "    \n",
    "            image_path = os.path.join(dataset_dir, filename)\n",
    "    \n",
    "            image_paths.append(image_path)\n",
    "\n",
    "            # Extract label from filename\n",
    "    \n",
    "            if \"_\" in filename:\n",
    "                label = int(filename.split(\"_\")[-1].split(\".\")[0])\n",
    "    \n",
    "            else:\n",
    "    \n",
    "                # If no label is specified, assign label 0 (for airplanes)\n",
    "                label = 0\n",
    "    \n",
    "            labels.append(label)\n",
    "\n",
    "    images = []\n",
    "    # Load images and convert to numpy array\n",
    "    \n",
    "    for image_path in image_paths:\n",
    "    \n",
    "        image = cv2.imread(image_path)\n",
    "        # Convert BGR to RGB\n",
    "    \n",
    "        image = cv2.cvtColor(image, cv2.COLOR_BGR2RGB)\n",
    "    \n",
    "        images.append(image)\n",
    "\n",
    "    \n",
    "    return np.array(images), np.array(labels)\n"
   ]
  },
  {
   "cell_type": "markdown",
   "metadata": {},
   "source": [
    "Dataset process"
   ]
  },
  {
   "cell_type": "code",
   "execution_count": 29,
   "metadata": {},
   "outputs": [
    {
     "name": "stdout",
     "output_type": "stream",
     "text": [
      "Shape of images array: (50000, 32, 32, 3)\n",
      "Length of labels array: 50000\n"
     ]
    }
   ],
   "source": [
    "dataset_dir = \"Dataset\"\n",
    "\n",
    "images, labels = load_cifar10_dataset(dataset_dir)\n",
    "\n",
    "\n",
    "# Check the shape of the loaded images and labels\n",
    "\n",
    "print(\"Shape of images array:\", images.shape)\n",
    "\n",
    "print(\"Length of labels array:\", len(labels))"
   ]
  },
  {
   "cell_type": "markdown",
   "metadata": {},
   "source": [
    "check image "
   ]
  },
  {
   "cell_type": "code",
   "execution_count": 30,
   "metadata": {},
   "outputs": [
    {
     "data": {
      "text/plain": [
       "array([[[ 54,  31,  18],\n",
       "        [ 59,  34,  19],\n",
       "        [ 56,  37,  22],\n",
       "        ...,\n",
       "        [133,  92,  53],\n",
       "        [131,  89,  49],\n",
       "        [132,  94,  53]],\n",
       "\n",
       "       [[ 59,  38,  26],\n",
       "        [ 62,  39,  26],\n",
       "        [ 55,  36,  25],\n",
       "        ...,\n",
       "        [193, 135,  77],\n",
       "        [200, 144,  86],\n",
       "        [197, 142,  86]],\n",
       "\n",
       "       [[ 41,  26,  18],\n",
       "        [ 41,  25,  16],\n",
       "        [ 36,  21,  13],\n",
       "        ...,\n",
       "        [202, 144,  84],\n",
       "        [196, 141,  81],\n",
       "        [190, 136,  79]],\n",
       "\n",
       "       ...,\n",
       "\n",
       "       [[105, 161, 157],\n",
       "        [ 97, 163, 162],\n",
       "        [ 96, 170, 164],\n",
       "        ...,\n",
       "        [ 98, 145, 144],\n",
       "        [100, 138, 135],\n",
       "        [100, 130, 123]],\n",
       "\n",
       "       [[ 86, 149, 143],\n",
       "        [ 96, 157, 156],\n",
       "        [ 97, 164, 160],\n",
       "        ...,\n",
       "        [ 94, 127, 122],\n",
       "        [ 98, 126, 120],\n",
       "        [100, 124, 114]],\n",
       "\n",
       "       [[ 70, 136, 128],\n",
       "        [ 92, 146, 145],\n",
       "        [113, 169, 168],\n",
       "        ...,\n",
       "        [ 98, 121, 111],\n",
       "        [ 96, 117, 106],\n",
       "        [ 92, 112, 101]]], dtype=uint8)"
      ]
     },
     "execution_count": 30,
     "metadata": {},
     "output_type": "execute_result"
    }
   ],
   "source": [
    "images[41]"
   ]
  },
  {
   "cell_type": "markdown",
   "metadata": {},
   "source": [
    "preprocessing"
   ]
  },
  {
   "cell_type": "code",
   "execution_count": 31,
   "metadata": {},
   "outputs": [],
   "source": [
    "def preprocess_images(images, resize_dim=(32, 32)):\n",
    "\n",
    "    preprocessed_images = []\n",
    "\n",
    "    for image in images:\n",
    "        # Resize the image\n",
    "\n",
    "        resized_image = cv2.resize(image, resize_dim)\n",
    "\n",
    "        # Convert the image to grayscale\n",
    "\n",
    "        gray_image = cv2.cvtColor(resized_image, cv2.COLOR_RGB2GRAY)\n",
    "\n",
    "        # Compute color histograms\n",
    "\n",
    "        hist_r = cv2.calcHist([resized_image], [0], None, [256], [0, 256])\n",
    "\n",
    "        hist_g = cv2.calcHist([resized_image], [1], None, [256], [0, 256])\n",
    "\n",
    "        hist_b = cv2.calcHist([resized_image], [2], None, [256], [0, 256])\n",
    "\n",
    "\n",
    "        # Concatenate histograms\n",
    "        hist_features = np.concatenate((hist_r, hist_g, hist_b), axis=None)\n",
    "\n",
    "        # Normalize the histograms\n",
    "        hist_features /= np.sum(hist_features)\n",
    "\n",
    "        # Concatenate the grayscale image and histogram features\n",
    "        combined_features = np.concatenate((gray_image.flatten(), hist_features))\n",
    "\n",
    "        preprocessed_images.append(combined_features)\n",
    "\n",
    "\n",
    "    return np.array(preprocessed_images)\n",
    "\n"
   ]
  },
  {
   "cell_type": "markdown",
   "metadata": {},
   "source": [
    "preprocess function call"
   ]
  },
  {
   "cell_type": "code",
   "execution_count": 32,
   "metadata": {},
   "outputs": [
    {
     "name": "stdout",
     "output_type": "stream",
     "text": [
      "Shape of preprocessed images array: (50000, 1792)\n"
     ]
    }
   ],
   "source": [
    "preprocessed_images = preprocess_images(images)\n",
    "\n",
    "# Check the shape of the preprocessed images\n",
    "\n",
    "print(\"Shape of preprocessed images array:\", preprocessed_images.shape)\n"
   ]
  },
  {
   "cell_type": "code",
   "execution_count": 33,
   "metadata": {},
   "outputs": [
    {
     "data": {
      "text/plain": [
       "array([2.0300000e+02, 2.0300000e+02, 2.0500000e+02, ..., 6.5104169e-04,\n",
       "       3.2552084e-04, 0.0000000e+00], dtype=float32)"
      ]
     },
     "execution_count": 33,
     "metadata": {},
     "output_type": "execute_result"
    }
   ],
   "source": [
    "preprocessed_images[0]"
   ]
  },
  {
   "cell_type": "markdown",
   "metadata": {},
   "source": [
    "LSH class"
   ]
  },
  {
   "cell_type": "code",
   "execution_count": 34,
   "metadata": {},
   "outputs": [],
   "source": [
    "class LSH:\n",
    "\n",
    "    def __init__(self, num_tables, hash_size, num_projections):\n",
    "\n",
    "        self.num_tables = num_tables\n",
    "\n",
    "        self.hash_size = hash_size\n",
    "\n",
    "        self.num_projections = num_projections\n",
    "\n",
    "        self.tables = [{} for _ in range(num_tables)]\n",
    "\n",
    "        self.projections = np.random.randn(num_projections, hash_size)\n",
    "\n",
    "\n",
    "    def hash_vector(self, v):\n",
    "\n",
    "        return ''.join(['1' if np.dot(v, p) > 0 else '0' for p in self.projections])\n",
    "\n",
    "    def add_vector(self, v, label):\n",
    "\n",
    "        for i in range(self.num_tables):\n",
    "\n",
    "            hash_val = self.hash_vector(v)\n",
    "\n",
    "            if hash_val not in self.tables[i]:\n",
    "\n",
    "                self.tables[i][hash_val] = []\n",
    "\n",
    "            self.tables[i][hash_val].append(label)\n",
    "\n",
    "\n",
    "    def query(self, v):\n",
    "\n",
    "        results = set()\n",
    "\n",
    "        for i in range(self.num_tables):\n",
    "\n",
    "            hash_val = self.hash_vector(v)\n",
    "\n",
    "            if hash_val in self.tables[i]:\n",
    "\n",
    "\n",
    "                results.update(self.tables[i][hash_val])\n",
    "\n",
    "        return results\n"
   ]
  },
  {
   "cell_type": "markdown",
   "metadata": {},
   "source": [
    "Query result"
   ]
  },
  {
   "cell_type": "code",
   "execution_count": 35,
   "metadata": {},
   "outputs": [
    {
     "name": "stdout",
     "output_type": "stream",
     "text": [
      "Query result: {8, 3, 6}\n"
     ]
    }
   ],
   "source": [
    "# Example usage\n",
    "\n",
    "lsh = LSH(num_tables=10, hash_size=1792, num_projections=50)\n",
    "\n",
    "\n",
    "\n",
    "# Assuming preprocessed_images is your feature vectors and labels is your array of labels\n",
    "\n",
    "for idx, (feature_vector, label) in enumerate(zip(preprocessed_images, labels)):\n",
    "\n",
    "    lsh.add_vector(feature_vector, label)\n",
    "\n",
    "\n",
    "\n",
    "# Query a sample feature vector\n",
    "\n",
    "query_index = 43\n",
    "\n",
    "# test_queries = [1, 31, 43, 22, 11]\n",
    "\n",
    "\n",
    "query_result = lsh.query(preprocessed_images[query_index])\n",
    "\n",
    "\n",
    "print(\"Query result:\", query_result)\n"
   ]
  },
  {
   "cell_type": "markdown",
   "metadata": {},
   "source": [
    "check cosine similarity of top 5 "
   ]
  },
  {
   "cell_type": "code",
   "execution_count": 36,
   "metadata": {},
   "outputs": [
    {
     "name": "stdout",
     "output_type": "stream",
     "text": [
      "Top 5 similar vector indices: [43, 203, 20643, 41283, 19133]\n"
     ]
    }
   ],
   "source": [
    "query_index = 43\n",
    "\n",
    "query_vector = preprocessed_images[query_index]\n",
    "\n",
    "\n",
    "\n",
    "# Get the labels of potential nearest neighbors using LSH\n",
    "\n",
    "query_result = lsh.query(query_vector)\n",
    "\n",
    "\n",
    "\n",
    "# Initialize a dictionary to store cosine similarities with corresponding indices\n",
    "\n",
    "similarities = {}\n",
    "\n",
    "\n",
    "\n",
    "\n",
    "# Iterate over the feature vectors corresponding to the labels returned by the LSH query\n",
    "\n",
    "for idx, label in enumerate(labels):\n",
    "\n",
    "    if label in query_result:\n",
    "\n",
    "        # Compute cosine similarity between the query vector and the current vector\n",
    "\n",
    "        similarity = cosine_similarity([query_vector], [preprocessed_images[idx]])[0][0]\n",
    "\n",
    "        similarities[idx] = similarity\n",
    "\n",
    "\n",
    "\n",
    "# Sort the dictionary by cosine similarity in descending order\n",
    "\n",
    "sorted_similarities = sorted(similarities.items(), key=lambda x: x[1], reverse=True)\n",
    "\n",
    "\n",
    "\n",
    "# Get the indices of the top 5 similar vectors\n",
    "\n",
    "top_5_similar_indices = [index for index, _ in sorted_similarities[:5]]\n",
    "\n",
    "\n",
    "\n",
    "print(\"Top 5 similar vector indices:\", top_5_similar_indices)"
   ]
  },
  {
   "cell_type": "markdown",
   "metadata": {},
   "source": [
    "Display funcation "
   ]
  },
  {
   "cell_type": "code",
   "execution_count": 37,
   "metadata": {},
   "outputs": [],
   "source": [
    "# Function to display images\n",
    "\n",
    "def display_images(images, titles, num_cols=3):\n",
    "\n",
    "    num_images = len(images)\n",
    "\n",
    "    num_rows = (num_images + num_cols - 1) // num_cols\n",
    "\n",
    "\n",
    "\n",
    "    plt.figure(figsize=(15, 5 * num_rows))\n",
    "\n",
    "\n",
    "\n",
    "\n",
    "    for i in range(num_images):\n",
    "        plt.subplot(num_rows, num_cols, i + 1)\n",
    "\n",
    "\n",
    "        plt.imshow(images[i])\n",
    "\n",
    "        plt.title(titles[i])\n",
    "\n",
    "\n",
    "\n",
    "        plt.axis('off')\n",
    "\n",
    "    plt.show()\n"
   ]
  },
  {
   "cell_type": "code",
   "execution_count": 38,
   "metadata": {},
   "outputs": [
    {
     "data": {
      "image/png": "[encoded data removed]",
      "text/plain": [
       "<Figure size 1500x1000 with 6 Axes>"
      ]
     },
     "metadata": {},
     "output_type": "display_data"
    }
   ],
   "source": [
    "query_image = images[query_index]\n",
    "\n",
    "query_title = \"Query Image (Label: {})\".format(labels[query_index])\n",
    "\n",
    "\n",
    "# Load and display top 5 similar images\n",
    "\n",
    "similar_images = [images[idx] for idx in top_5_similar_indices]\n",
    "\n",
    "similar_titles = [\"Similar Image {}: Label {}\".format(i + 1, labels[idx]) for i, idx in enumerate(top_5_similar_indices)]\n",
    "\n",
    "# Display query image and top 5 similar images\n",
    "\n",
    "display_images([query_image] + similar_images, [query_title] + similar_titles)"
   ]
  },
  {
   "cell_type": "markdown",
   "metadata": {},
   "source": [
    "Grouping of similar images "
   ]
  },
  {
   "cell_type": "code",
   "execution_count": 39,
   "metadata": {},
   "outputs": [
    {
     "name": "stdout",
     "output_type": "stream",
     "text": [
      "Similar images saved in different folders.\n"
     ]
    }
   ],
   "source": [
    "import os\n",
    "import cv2\n",
    "import numpy as np\n",
    "\n",
    "class LSH:\n",
    "\n",
    "    def __init__(self, num_tables, hash_size, num_projections):\n",
    "\n",
    "        self.num_tables = num_tables\n",
    "\n",
    "        self.hash_size = hash_size\n",
    "\n",
    "        self.num_projections = num_projections\n",
    "        self.tables = [{} for _ in range(num_tables)]\n",
    "\n",
    "        self.projections = np.random.randn(num_projections, hash_size)\n",
    "\n",
    "    def hash_vector(self, v):\n",
    "        return ''.join(['1' if np.dot(v, p) > 0 else '0' for p in self.projections])\n",
    "\n",
    "\n",
    "\n",
    "    def add_vector(self, v, label):\n",
    "        for i in range(self.num_tables):\n",
    "\n",
    "            hash_val = self.hash_vector(v)\n",
    "\n",
    "            if hash_val not in self.tables[i]:\n",
    "                self.tables[i][hash_val] = []\n",
    "\n",
    "            self.tables[i][hash_val].append(label)\n",
    "\n",
    "    def query(self, v):\n",
    "\n",
    "        results = set()\n",
    "\n",
    "        for i in range(self.num_tables):\n",
    "            hash_val = self.hash_vector(v)\n",
    "\n",
    "            if hash_val in self.tables[i]:\n",
    "\n",
    "                results.update(self.tables[i][hash_val])\n",
    "\n",
    "        return results\n",
    "\n",
    "\n",
    "\n",
    "def jaccard_similarity(set1, set2):\n",
    "\n",
    "    intersection = len(set1.intersection(set2))\n",
    "\n",
    "    union = len(set1.union(set2))\n",
    "\n",
    "    return intersection / union if union != 0 else 0\n",
    "\n",
    "\n",
    "# Example usage\n",
    "lsh = LSH(num_tables=10, hash_size=1792, num_projections=50)\n",
    "\n",
    "# Assuming preprocessed_images is your feature vectors and labels is your array of labels\n",
    "\n",
    "for idx, (feature_vector, label) in enumerate(zip(preprocessed_images, labels)):\n",
    "    lsh.add_vector(feature_vector, label)\n",
    "\n",
    "\n",
    "\n",
    "# Query a sample feature vector\n",
    "\n",
    "query_index = 43\n",
    "\n",
    "query_vector = set(preprocessed_images[query_index])\n",
    "\n",
    "\n",
    "\n",
    "# Get the labels of potential nearest neighbors using LSH\n",
    "\n",
    "query_result = lsh.query(preprocessed_images[query_index])\n",
    "\n",
    "# Specify a threshold for Jaccard similarity\n",
    "jaccard_threshold = 0.5  # Adjust as needed\n",
    "\n",
    "\n",
    "\n",
    "# Create folders to save similar images\n",
    "\n",
    "save_dir = \"Similar_Images\"\n",
    "\n",
    "os.makedirs(save_dir, exist_ok=True)\n",
    "\n",
    "\n",
    "# Define the number of images to save in each group\n",
    "\n",
    "images_per_group = 1000\n",
    "\n",
    "\n",
    "\n",
    "\n",
    "\n",
    "# Initialize variables to track the number of images saved in each group\n",
    "\n",
    "current_group_size = 0\n",
    "\n",
    "current_group_folder = None\n",
    "\n",
    "\n",
    "# Iterate over the feature vectors corresponding to the labels returned by the LSH query\n",
    "for idx, label in enumerate(labels):\n",
    "\n",
    "    if label in query_result:\n",
    "        # Compute Jaccard similarity between the query set and the current set\n",
    "\n",
    "        similarity = jaccard_similarity(query_vector, set(preprocessed_images[idx]))\n",
    "\n",
    "\n",
    "\n",
    "        if similarity > jaccard_threshold:\n",
    "\n",
    "            if current_group_size == 0 or current_group_size >= images_per_group:\n",
    "\n",
    "                # Create a new folder for the group\n",
    "\n",
    "                current_group_folder = os.path.join(save_dir, f\"Group_{label}\")\n",
    "\n",
    "                os.makedirs(current_group_folder, exist_ok=True)\n",
    "\n",
    "                current_group_size = 0\n",
    "\n",
    "            # Save the similar image to the corresponding folder\n",
    "\n",
    "            image_filename = f\"similar_image_{idx}.png\"\n",
    "\n",
    "            image_path = os.path.join(current_group_folder, image_filename)\n",
    "\n",
    "            cv2.imwrite(image_path, cv2.cvtColor(images[idx], cv2.COLOR_RGB2BGR))\n",
    "\n",
    "            current_group_size += 1\n",
    "\n",
    "# Print message indicating the completion of the process\n",
    "\n",
    "print(\"Similar images saved in different folders.\")\n"
   ]
  }
 ],
 "metadata": {
  "kernelspec": {
   "display_name": "Python 3",
   "language": "python",
   "name": "python3"
  },
  "language_info": {
   "codemirror_mode": {
    "name": "ipython",
    "version": 3
   },
   "file_extension": ".py",
   "mimetype": "text/x-python",
   "name": "python",
   "nbconvert_exporter": "python",
   "pygments_lexer": "ipython3",
   "version": "3.11.8"
  }
 },
 "nbformat": 4,
 "nbformat_minor": 2
}
